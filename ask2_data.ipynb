{
 "cells": [
  {
   "cell_type": "code",
   "execution_count": 2,
   "metadata": {},
   "outputs": [],
   "source": [
    "import os\n",
    "import pandas as pd\n",
    "from sklearn.model_selection import train_test_split"
   ]
  },
  {
   "cell_type": "code",
   "execution_count": 3,
   "metadata": {},
   "outputs": [],
   "source": [
    "path = os.getcwd() + \"/data/\"\n",
    "Title = []\n",
    "Content = []\n",
    "Category = []\n",
    "Id = []\n",
    "count = 0;\n",
    "for category in os.listdir(path):\n",
    "    #print(category)\n",
    "    if category == \"README.TXT\":\n",
    "        continue\n",
    "    for filename in os.listdir(path + category):\n",
    "        #print(filename)\n",
    "        f = open(path + category + \"/\" + filename,\"r\")\n",
    "        Title.append(f.readline())\n",
    "        Content.append(f.read())\n",
    "        Category.append(category)\n",
    "        count+=1\n",
    "        Id.append(count)\n",
    "        f.close"
   ]
  },
  {
   "cell_type": "code",
   "execution_count": 4,
   "metadata": {},
   "outputs": [],
   "source": [
    "TitleX,TitleY, ContentX,ContentY, CategoryX , CategoryY ,IdX,IdY = train_test_split(Title,Content,Category,Id,test_size=0.2, stratify=Category)\n",
    "tr={ 'Id':IdX,'Title':TitleX, 'Content':ContentX, 'Category':CategoryX}\n",
    "train = pd.DataFrame(data=tr)\n",
    "te={ 'Id':IdY ,'Title':TitleY, 'Content':ContentY}\n",
    "test = pd.DataFrame(data=te)\n",
    "\n",
    "results = pd.DataFrame(data=CategoryY,columns=['Category'])"
   ]
  },
  {
   "cell_type": "code",
   "execution_count": 5,
   "metadata": {},
   "outputs": [],
   "source": [
    "train.to_csv('train_set.TSV',index=False,sep='\\t')\n",
    "test.to_csv('test_set.TSV',index=False,sep='\\t')\n",
    "results.to_csv('res.TSV',index=False,sep='\\t')"
   ]
  }
 ],
 "metadata": {
  "kernelspec": {
   "display_name": "Python 3",
   "language": "python",
   "name": "python3"
  },
  "language_info": {
   "codemirror_mode": {
    "name": "ipython",
    "version": 3
   },
   "file_extension": ".py",
   "mimetype": "text/x-python",
   "name": "python",
   "nbconvert_exporter": "python",
   "pygments_lexer": "ipython3",
   "version": "3.6.5"
  }
 },
 "nbformat": 4,
 "nbformat_minor": 2
}
